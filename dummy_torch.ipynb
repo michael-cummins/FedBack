{
 "cells": [
  {
   "cell_type": "code",
   "execution_count": 3,
   "metadata": {},
   "outputs": [
    {
     "name": "stdout",
     "output_type": "stream",
     "text": [
      "The autoreload extension is already loaded. To reload it, use:\n",
      "  %reload_ext autoreload\n"
     ]
    }
   ],
   "source": [
    "%load_ext autoreload\n",
    "%autoreload 2\n",
    "\n",
    "import matplotlib.pyplot as plt\n",
    "import numpy as np\n",
    "from agents import GlobalConsensus, EventGlobalConsensus, EventGlobalConsensusTorch\n",
    "from models import NN, Dummy\n",
    "from utils import add_params, scale_params, subtract_params, average_params, sum_params\n",
    "import torch\n",
    "\n",
    "%matplotlib inline"
   ]
  },
  {
   "cell_type": "markdown",
   "metadata": {},
   "source": [
    "### Experimenting with SGD and adding parameters"
   ]
  },
  {
   "cell_type": "code",
   "execution_count": 8,
   "metadata": {},
   "outputs": [
    {
     "name": "stdout",
     "output_type": "stream",
     "text": [
      "Parameter containing:\n",
      "tensor([[2.]], requires_grad=True)\n",
      "Parameter containing:\n",
      "tensor([2.], requires_grad=True)\n",
      "Parameter containing:\n",
      "tensor([[2.]], requires_grad=True)\n",
      "Parameter containing:\n",
      "tensor([2.], requires_grad=True)\n",
      "----- model 1 -----\n",
      "before training\n",
      "Parameter containing:\n",
      "tensor([[0.9322]], requires_grad=True)\n",
      "Parameter containing:\n",
      "tensor([0.7053], requires_grad=True)\n",
      "Parameter containing:\n",
      "tensor([[-0.0261]], requires_grad=True)\n",
      "Parameter containing:\n",
      "tensor([-0.6655], requires_grad=True)\n",
      "\n",
      "after training\n",
      "Parameter containing:\n",
      "tensor([[0.0078]], requires_grad=True)\n",
      "Parameter containing:\n",
      "tensor([0.0028], requires_grad=True)\n",
      "Parameter containing:\n",
      "tensor([[-0.0061]], requires_grad=True)\n",
      "Parameter containing:\n",
      "tensor([-0.0033], requires_grad=True)\n"
     ]
    }
   ],
   "source": [
    "model1 = NN(1,1,1)\n",
    "model2 = NN(1,1,1)\n",
    "\n",
    "for param in model2.parameters():\n",
    "    param.data = 2*torch.ones(param.shape)\n",
    "\n",
    "print('----- model 1 -----')\n",
    "print('before training')\n",
    "for param in model1.parameters():\n",
    "    print(param)\n",
    "\n",
    "opt = torch.optim.SGD(model1.parameters(), lr=0.01, weight_decay=0.01)\n",
    "for _ in range(100):\n",
    "    opt.zero_grad()\n",
    "    loss = 0\n",
    "    for param in model1.parameters():\n",
    "        loss += torch.norm(param)\n",
    "    loss.backward()\n",
    "    opt.step()\n",
    "\n",
    "print('\\nafter training')\n",
    "for param in model1.parameters():\n",
    "    print(param)"
   ]
  },
  {
   "cell_type": "markdown",
   "metadata": {},
   "source": [
    "### Event-Based ADMM with Torch"
   ]
  },
  {
   "cell_type": "code",
   "execution_count": 5,
   "metadata": {},
   "outputs": [
    {
     "name": "stdout",
     "output_type": "stream",
     "text": [
      "tensor([[ 0.0015, -0.2810]], grad_fn=<DivBackward0>)\n",
      "tensor([[ 0.0015, -0.2810]], grad_fn=<DivBackward0>)\n",
      "tensor([[ 0.0015, -0.2810]], grad_fn=<DivBackward0>)\n",
      "tensor([[ 0.0015, -0.2810]], grad_fn=<DivBackward0>)\n",
      "tensor([[ 0.0015, -0.2810]], grad_fn=<DivBackward0>)\n",
      "tensor([[ 0.0015, -0.2810]], grad_fn=<DivBackward0>)\n",
      "tensor([[ 0.0015, -0.2810]], grad_fn=<DivBackward0>)\n",
      "tensor([[ 0.0015, -0.2810]], grad_fn=<DivBackward0>)\n",
      "0\n",
      "0\n",
      "0\n",
      "0\n"
     ]
    },
    {
     "name": "stderr",
     "output_type": "stream",
     "text": [
      "/var/folders/bv/3kttr09s6dsg653szk2tbhlh0000gn/T/ipykernel_2728/3721919984.py:17: UserWarning: Creating a tensor from a list of numpy.ndarrays is extremely slow. Please consider converting the list to a single numpy.ndarray with numpy.array() before converting to a tensor. (Triggered internally at /Users/runner/work/pytorch/pytorch/pytorch/torch/csrc/utils/tensor_new.cpp:248.)\n",
      "  lam_init=Dummy(torch.Tensor(lam)).parameters()\n"
     ]
    }
   ],
   "source": [
    "# Initial lambdas must sum to 0!\n",
    "lam = np.random.randn(2,2)*5\n",
    "lambdas = np.vstack([lam, -lam])\n",
    "x_init = np.random.randn(lambdas.shape[0],2)*5\n",
    "delta = 0\n",
    "rho = 1\n",
    "\n",
    "x = torch.randn(2,)\n",
    "agents = [\n",
    "    EventGlobalConsensusTorch(\n",
    "        N=len(lambdas), \n",
    "        rho=rho, \n",
    "        model=Dummy(torch.randn(1,2)),\n",
    "        loss=torch.norm,\n",
    "        delta=delta,\n",
    "        x_init=x, \n",
    "        lam_init=Dummy(torch.Tensor(lam)).parameters()\n",
    "    ) \n",
    "    for lam in zip(lambdas)\n",
    "]\n",
    "\n",
    "for agent in agents:\n",
    "    agent.primal_avg = average_params([agent.model.parameters() for agent in agents])\n",
    "    for param in agent.primal_avg:\n",
    "        print(param)\n",
    "\n",
    "for agent in agents:\n",
    "    for param in agent.primal_avg:\n",
    "        print(param)\n",
    "\n",
    "for agent in agents:\n",
    "    print(agent.delta)"
   ]
  },
  {
   "cell_type": "markdown",
   "metadata": {},
   "source": [
    "### Run simulation"
   ]
  },
  {
   "cell_type": "code",
   "execution_count": 6,
   "metadata": {},
   "outputs": [
    {
     "name": "stderr",
     "output_type": "stream",
     "text": [
      "  1%|          | 1/100 [00:00<00:08, 11.31it/s]\n"
     ]
    },
    {
     "name": "stdout",
     "output_type": "stream",
     "text": [
      "tensor([[ 0.7597, -1.5201]])\n",
      "tensor([[-0.8255, -0.6613]])\n",
      "tensor([[-0.7359, -0.0355]])\n",
      "tensor([[0.8076, 1.0930]])\n"
     ]
    },
    {
     "ename": "TypeError",
     "evalue": "'method' object is not iterable",
     "output_type": "error",
     "traceback": [
      "\u001b[0;31m---------------------------------------------------------------------------\u001b[0m",
      "\u001b[0;31mTypeError\u001b[0m                                 Traceback (most recent call last)",
      "\u001b[1;32m/Users/michaelcummins/ADMM/dummy_torch.ipynb Cell 7\u001b[0m line \u001b[0;36m1\n\u001b[1;32m     <a href='vscode-notebook-cell:/Users/michaelcummins/ADMM/dummy_torch.ipynb#W4sZmlsZQ%3D%3D?line=9'>10</a>\u001b[0m \u001b[39mfor\u001b[39;00m t \u001b[39min\u001b[39;00m tqdm(\u001b[39mrange\u001b[39m(t_max)):\n\u001b[1;32m     <a href='vscode-notebook-cell:/Users/michaelcummins/ADMM/dummy_torch.ipynb#W4sZmlsZQ%3D%3D?line=10'>11</a>\u001b[0m     \n\u001b[1;32m     <a href='vscode-notebook-cell:/Users/michaelcummins/ADMM/dummy_torch.ipynb#W4sZmlsZQ%3D%3D?line=11'>12</a>\u001b[0m     \u001b[39m# Primal Update\u001b[39;00m\n\u001b[1;32m     <a href='vscode-notebook-cell:/Users/michaelcummins/ADMM/dummy_torch.ipynb#W4sZmlsZQ%3D%3D?line=12'>13</a>\u001b[0m     \u001b[39mfor\u001b[39;00m agent \u001b[39min\u001b[39;00m agents:\n\u001b[0;32m---> <a href='vscode-notebook-cell:/Users/michaelcummins/ADMM/dummy_torch.ipynb#W4sZmlsZQ%3D%3D?line=13'>14</a>\u001b[0m         agent\u001b[39m.\u001b[39;49mprimal_update()\n\u001b[1;32m     <a href='vscode-notebook-cell:/Users/michaelcummins/ADMM/dummy_torch.ipynb#W4sZmlsZQ%3D%3D?line=15'>16</a>\u001b[0m     \u001b[39m# Residual update in the case of communication\u001b[39;00m\n\u001b[1;32m     <a href='vscode-notebook-cell:/Users/michaelcummins/ADMM/dummy_torch.ipynb#W4sZmlsZQ%3D%3D?line=16'>17</a>\u001b[0m     sum_of_res \u001b[39m=\u001b[39m []\n",
      "File \u001b[0;32m~/ADMM/agents.py:121\u001b[0m, in \u001b[0;36mEventGlobalConsensusTorch.primal_update\u001b[0;34m(self)\u001b[0m\n\u001b[1;32m    118\u001b[0m \u001b[39m# print('\\nAfter Update')\u001b[39;00m\n\u001b[1;32m    119\u001b[0m \u001b[39m# check for how much paramters changed\u001b[39;00m\n\u001b[1;32m    120\u001b[0m delta \u001b[39m=\u001b[39m \u001b[39m0\u001b[39m\n\u001b[0;32m--> 121\u001b[0m \u001b[39mfor\u001b[39;00m param \u001b[39min\u001b[39;00m \u001b[39mself\u001b[39m\u001b[39m.\u001b[39mlast_communicated: \u001b[39mprint\u001b[39m(param)\n\u001b[1;32m    122\u001b[0m \u001b[39mfor\u001b[39;00m old_param, updated_param \u001b[39min\u001b[39;00m \u001b[39mzip\u001b[39m(\u001b[39mself\u001b[39m\u001b[39m.\u001b[39mlast_communicated, \u001b[39mself\u001b[39m\u001b[39m.\u001b[39mmodel\u001b[39m.\u001b[39mparameters()):\n\u001b[1;32m    123\u001b[0m     \u001b[39m# print(old_param.data)\u001b[39;00m\n\u001b[1;32m    124\u001b[0m     \u001b[39m# print(updated_param.data)\u001b[39;00m\n\u001b[1;32m    125\u001b[0m     delta \u001b[39m+\u001b[39m\u001b[39m=\u001b[39m torch\u001b[39m.\u001b[39mnorm(old_param\u001b[39m.\u001b[39mdata\u001b[39m-\u001b[39mupdated_param\u001b[39m.\u001b[39mdata, p\u001b[39m=\u001b[39m\u001b[39m'\u001b[39m\u001b[39mfro\u001b[39m\u001b[39m'\u001b[39m)\n",
      "\u001b[0;31mTypeError\u001b[0m: 'method' object is not iterable"
     ]
    }
   ],
   "source": [
    "from tqdm import tqdm\n",
    "comm = 0\n",
    "\n",
    "# print('\\nAverage Params')\n",
    "# for agent in agents:\n",
    "#     for param in agent.primal_avg:\n",
    "#         print(param)\n",
    "\n",
    "t_max = 100\n",
    "for t in tqdm(range(t_max)):\n",
    "    \n",
    "    # Primal Update\n",
    "    for agent in agents:\n",
    "        agent.primal_update()\n",
    "\n",
    "    # Residual update in the case of communication\n",
    "    sum_of_res = []\n",
    "    for agent in agents:\n",
    "        if agent.broadcast: \n",
    "            comm += 1\n",
    "            sum_of_res.append(agent.residual)\n",
    "    if sum_of_res:\n",
    "        # print('have residuals')\n",
    "        res = sum_params(sum_of_res)\n",
    "        for agent in agents:\n",
    "            add_params(agent.primal_avg, res)\n",
    "\n",
    "    # Dual update\n",
    "    for agent in agents:\n",
    "        agent.dual_update()\n",
    "\n",
    "load = comm/(t_max*len(agents))\n",
    "print(f'Communication load = {comm}')\n",
    "\n",
    "print('\\nParams')\n",
    "for agent in agents:\n",
    "    for param in agent.model.parameters():\n",
    "        print(param)\n",
    "\n",
    "print('\\nAverage')\n",
    "for agent in agents:\n",
    "    for param in agent.primal_avg:\n",
    "        print(param)"
   ]
  }
 ],
 "metadata": {
  "kernelspec": {
   "display_name": "disop",
   "language": "python",
   "name": "python3"
  },
  "language_info": {
   "codemirror_mode": {
    "name": "ipython",
    "version": 3
   },
   "file_extension": ".py",
   "mimetype": "text/x-python",
   "name": "python",
   "nbconvert_exporter": "python",
   "pygments_lexer": "ipython3",
   "version": "3.10.12"
  }
 },
 "nbformat": 4,
 "nbformat_minor": 2
}
