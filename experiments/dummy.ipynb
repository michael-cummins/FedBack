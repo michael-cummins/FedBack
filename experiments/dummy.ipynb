{
 "cells": [
  {
   "cell_type": "code",
   "execution_count": 2,
   "metadata": {},
   "outputs": [],
   "source": [
    "%load_ext autoreload\n",
    "%autoreload 2\n",
    "\n",
    "import matplotlib.pyplot as plt\n",
    "import numpy as np\n",
    "from admm.agents import GlobalConsensus, EventGlobalConsensus, EventGlobalConsensusTorch\n",
    "from admm.models import NN, Dummy\n",
    "from admm.utils import add_params, scale_params, subtract_params, average_params, sum_params\n",
    "import torch\n",
    "\n",
    "%matplotlib inline"
   ]
  },
  {
   "cell_type": "code",
   "execution_count": 4,
   "metadata": {},
   "outputs": [
    {
     "name": "stdout",
     "output_type": "stream",
     "text": [
      "tensor(500.4350)\n"
     ]
    }
   ],
   "source": [
    "a = torch.randn(500,500)\n",
    "print(torch.norm(a,p='fro'))"
   ]
  },
  {
   "cell_type": "markdown",
   "metadata": {},
   "source": [
    "### ADMM Global Consensus"
   ]
  },
  {
   "cell_type": "code",
   "execution_count": 2,
   "metadata": {},
   "outputs": [
    {
     "name": "stdout",
     "output_type": "stream",
     "text": [
      "[ 0.49934709 -0.03778324]\n",
      "[-0.66796746  0.41283368]\n",
      "[ 0.80950284 -1.01054746]\n",
      "[-0.57426436  0.68750329]\n",
      "average = [0.01665453 0.01300157]\n"
     ]
    }
   ],
   "source": [
    "rho = 1\n",
    "\n",
    "# Initial lambdas must sum to 0!\n",
    "lam = np.random.randn(2,2)\n",
    "lambdas = np.vstack([lam, -lam])\n",
    "\n",
    "agents = [\n",
    "    GlobalConsensus(\n",
    "        rho=rho, \n",
    "        x_init=np.random.randn(2), \n",
    "        lam_init=lam\n",
    "    ) \n",
    "    for lam in lambdas\n",
    "]\n",
    "\n",
    "# comopute initial average\n",
    "avg = 0\n",
    "for agent in agents:\n",
    "    avg += agent.x/len(agents) \n",
    "\n",
    "# broadcast average to all agents\n",
    "for agent in agents:\n",
    "    agent.primal_average = avg\n",
    "    print(agent.x)\n",
    "print(f'average = {agents[0].primal_average}')"
   ]
  },
  {
   "cell_type": "code",
   "execution_count": 3,
   "metadata": {},
   "outputs": [
    {
     "name": "stdout",
     "output_type": "stream",
     "text": [
      "agent 0: x = [-2.18478557e-09  5.83137276e-10], lam = [ 4.36957115e-09 -1.16627455e-09]\n",
      "agent 1: x = [-1.83312191e-10 -7.79049348e-10], lam = [3.66624381e-10 1.55809870e-09]\n",
      "agent 2: x = [ 2.18478557e-09 -5.83137276e-10], lam = [-4.36957115e-09  1.16627455e-09]\n",
      "agent 3: x = [1.83312191e-10 7.79049348e-10], lam = [-3.66624382e-10 -1.55809870e-09]\n"
     ]
    }
   ],
   "source": [
    "for i in range(50):\n",
    "    \n",
    "    # compute primal variables\n",
    "    for agent in agents:\n",
    "        agent.primal_update()\n",
    "\n",
    "    # compute new global average\n",
    "    avg = 0\n",
    "    for agent in agents:\n",
    "        avg += agent.x/len(agents) \n",
    "    \n",
    "    # broadcast average to all agents\n",
    "    for agent in agents:\n",
    "        agent.primal_avg = avg\n",
    "\n",
    "    # update dual variables    \n",
    "    for agent in agents:\n",
    "        agent.dual_update()\n",
    "\n",
    "for i, agent in enumerate(agents):\n",
    "    print(f'agent {i}: x = {agent.x}, lam = {agent.lam}')"
   ]
  },
  {
   "cell_type": "markdown",
   "metadata": {},
   "source": [
    "### Event-Based ADMM Global Consensus"
   ]
  },
  {
   "cell_type": "code",
   "execution_count": 4,
   "metadata": {},
   "outputs": [],
   "source": [
    "rho = 1\n",
    "deltas = [1e-3]\n",
    "t_max = 30\n",
    "\n",
    "# Initial lambdas must sum to 0!\n",
    "lam = np.random.randn(2,2)*5\n",
    "lambdas = np.vstack([lam, -lam])\n",
    "x_init = np.random.randn(lambdas.shape[0],2)*5\n",
    "initial_avg = np.mean(x_init, axis=0)\n"
   ]
  },
  {
   "cell_type": "code",
   "execution_count": 5,
   "metadata": {},
   "outputs": [
    {
     "name": "stdout",
     "output_type": "stream",
     "text": [
      "Accuracy = 0.999892, load = 0.6333333333333333\n"
     ]
    }
   ],
   "source": [
    "for delta in deltas:\n",
    "\n",
    "    # Initialise Agents\n",
    "    agents = [\n",
    "        EventGlobalConsensus(\n",
    "            N=len(lambdas), \n",
    "            rho=rho, \n",
    "            delta=delta,\n",
    "            x_init=x, \n",
    "            lam_init=lam\n",
    "        ) \n",
    "        for lam, x in zip(lambdas, x_init)\n",
    "    ]\n",
    "\n",
    "    # broadcast average to all agents\n",
    "    for agent in agents:\n",
    "        agent.primal_avg = initial_avg\n",
    "\n",
    "    # Run event based ADMM\n",
    "    comm = 0\n",
    "\n",
    "    for t in range(t_max):\n",
    "        \n",
    "        for agent in agents:\n",
    "            agent.primal_update()\n",
    "        \n",
    "        sum_of_res = 0\n",
    "        for agent in agents:\n",
    "            if agent.broadcast: \n",
    "                comm += 1\n",
    "                sum_of_res += agent.residual\n",
    "            \n",
    "        # This is somehow updating all the agents\n",
    "        agent.primal_avg += sum_of_res\n",
    "        \n",
    "        for agent in agents:\n",
    "            agent.dual_update()\n",
    "    \n",
    "    accuracy = np.sum([np.linalg.norm(agent.x - agent.C, ord=1) for agent in agents])\n",
    "    load = comm/(t_max*len(agents))\n",
    "    print(f'Accuracy = {1-accuracy:.6f}, load = {load}')\n",
    "    "
   ]
  }
 ],
 "metadata": {
  "kernelspec": {
   "display_name": "deepc-hunt",
   "language": "python",
   "name": "python3"
  },
  "language_info": {
   "codemirror_mode": {
    "name": "ipython",
    "version": 3
   },
   "file_extension": ".py",
   "mimetype": "text/x-python",
   "name": "python",
   "nbconvert_exporter": "python",
   "pygments_lexer": "ipython3",
   "version": "3.10.12"
  },
  "orig_nbformat": 4
 },
 "nbformat": 4,
 "nbformat_minor": 2
}
