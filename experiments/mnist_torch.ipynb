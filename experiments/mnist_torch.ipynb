{
 "cells": [
  {
   "cell_type": "code",
   "execution_count": 108,
   "metadata": {},
   "outputs": [
    {
     "name": "stdout",
     "output_type": "stream",
     "text": [
      "The autoreload extension is already loaded. To reload it, use:\n",
      "  %reload_ext autoreload\n"
     ]
    }
   ],
   "source": [
    "%load_ext autoreload\n",
    "%autoreload 2\n",
    "\n",
    "import torch\n",
    "import torch.nn as nn\n",
    "from torchvision import datasets, transforms\n",
    "from tqdm import tqdm\n",
    "import matplotlib.pyplot as plt\n",
    "from admm.agents import FedConsensus\n",
    "from admm.models import mnistNet\n",
    "from admm.utils import add_params, average_params, sum_params\n",
    "\n",
    "%matplotlib inline"
   ]
  },
  {
   "cell_type": "markdown",
   "metadata": {},
   "source": [
    "### Load MNIST data and create loaders"
   ]
  },
  {
   "cell_type": "code",
   "execution_count": 109,
   "metadata": {},
   "outputs": [],
   "source": [
    "train_ratio = 0.8\n",
    "val_ratio = 0.1\n",
    "test_ratio = 0.1\n",
    "batch_size = 64\n",
    "\n",
    "# Define transformations\n",
    "transform = transforms.Compose([transforms.ToTensor(),\n",
    "                                transforms.Normalize((0.1307,), (0.3081,))])\n",
    "\n",
    "# Load the full MNIST dataset and filter for 1's and 2's\n",
    "dataset = datasets.MNIST(root='./data', train=True, transform=transform, download=False)\n",
    "filtered_dataset = [data for data in dataset if data[1] == 1 or data[1] == 2]\n",
    "\n",
    "# Split into train, val and test\n",
    "dataset_length = len(filtered_dataset)\n",
    "train_length = int(train_ratio * dataset_length)\n",
    "val_length = int(val_ratio * dataset_length)\n",
    "test_length = dataset_length - train_length - val_length\n",
    "train_dataset, val_dataset, test_dataset = torch.utils.data.random_split(\n",
    "    filtered_dataset, \n",
    "    [train_length, val_length, test_length]\n",
    ")\n",
    "\n",
    "digit_1_train_dataset = [data for data in train_dataset if data[1] == 1]\n",
    "digit_2_train_dataset = [data for data in train_dataset if data[1] == 2]\n",
    "digit_1_train_loader = torch.utils.data.DataLoader(digit_1_train_dataset, batch_size=batch_size, shuffle=True)\n",
    "digit_2_train_loader = torch.utils.data.DataLoader(digit_2_train_dataset, batch_size=batch_size, shuffle=True)\n",
    "\n",
    "val_loader = torch.utils.data.DataLoader(val_dataset, batch_size=batch_size, shuffle=True)\n",
    "test_loader = torch.utils.data.DataLoader(test_dataset, batch_size=batch_size, shuffle=True)"
   ]
  },
  {
   "cell_type": "markdown",
   "metadata": {},
   "source": [
    "### Visualise data"
   ]
  },
  {
   "cell_type": "code",
   "execution_count": 110,
   "metadata": {},
   "outputs": [
    {
     "data": {
      "image/png": "[encoded data removed]",
      "text/plain": [
       "<Figure size 640x480 with 2 Axes>"
      ]
     },
     "metadata": {},
     "output_type": "display_data"
    }
   ],
   "source": [
    "for data, target in digit_1_train_loader:\n",
    "    data = data[0,:,:,:]\n",
    "    plt.subplot(1,2,1)\n",
    "    plt.imshow(data.permute(1,2,0))\n",
    "    plt.title(f'Label = {target[0].item()}')\n",
    "    break\n",
    "\n",
    "for data, target in digit_2_train_loader:\n",
    "    shape = data.shape\n",
    "    data = data[0,:,:,:]\n",
    "    plt.subplot(1,2,2)\n",
    "    plt.imshow(data.permute(1,2,0))\n",
    "    plt.title(f'Label = {target[0].item()}, dtype = {target.float().type()}')\n",
    "    break"
   ]
  },
  {
   "cell_type": "markdown",
   "metadata": {},
   "source": [
    "### Define Agents"
   ]
  },
  {
   "cell_type": "code",
   "execution_count": 111,
   "metadata": {},
   "outputs": [],
   "source": [
    "delta = 1e-4\n",
    "rho = 0.01\n",
    "loaders = [digit_1_train_loader, digit_2_train_loader]\n",
    "agents = [\n",
    "    FedConsensus(\n",
    "        N=len(loaders),\n",
    "        delta=delta,\n",
    "        rho=rho,\n",
    "        model=mnistNet(in_channels=784, hidden1=400, hidden2=400, out_channels=10),\n",
    "        loss=nn.CrossEntropyLoss(),\n",
    "        train_loader=loader,\n",
    "        classification=True,\n",
    "        epochs=5\n",
    "    ) for loader in loaders\n",
    "]\n",
    "\n",
    "# Broadcast average to all agents and check if equal\n",
    "for agent in agents:\n",
    "    agent.primal_avg = average_params([agent.model.parameters() for agent in agents])\n",
    "for param1, param2 in zip(agents[0].primal_avg, agents[1].primal_avg):\n",
    "    if not torch.equal(param1, param2): print('param not equal')"
   ]
  },
  {
   "cell_type": "code",
   "execution_count": 112,
   "metadata": {},
   "outputs": [
    {
     "name": "stderr",
     "output_type": "stream",
     "text": [
      "  0%|          | 0/200 [00:00<?, ?it/s]/opt/homebrew/Caskroom/miniforge/base/envs/disop/lib/python3.10/site-packages/torch/nn/modules/module.py:1518: UserWarning: Implicit dimension choice for softmax has been deprecated. Change the call to include dim=X as an argument.\n",
      "  return self._call_impl(*args, **kwargs)\n",
      "100%|██████████| 200/200 [09:57<00:00,  2.99s/it]\n"
     ]
    }
   ],
   "source": [
    "comm = 0\n",
    "t_max = 200\n",
    "for t in tqdm(range(t_max)):\n",
    "    \n",
    "    # Primal Update\n",
    "    for agent in agents:\n",
    "        agent.primal_update()\n",
    "\n",
    "    # Residual update in the case of communication\n",
    "    C = []\n",
    "    for agent in agents:\n",
    "        if agent.broadcast: \n",
    "            comm += 1\n",
    "            C.append(agent.residual)\n",
    "    if C:\n",
    "        # If communicaiton set isn't empty\n",
    "        residuals = [x for x in sum_params(C)]\n",
    "        for agent in agents:\n",
    "            add_params(agent.primal_avg, residuals)\n",
    "\n",
    "    # Dual update\n",
    "    for agent in agents:\n",
    "        agent.dual_update()"
   ]
  },
  {
   "cell_type": "code",
   "execution_count": 115,
   "metadata": {},
   "outputs": [
    {
     "name": "stdout",
     "output_type": "stream",
     "text": [
      "Communication freq = 1.0\n"
     ]
    }
   ],
   "source": [
    "freq = comm/(t_max*len(agents))\n",
    "print(f'Communication freq = {freq}')"
   ]
  },
  {
   "cell_type": "markdown",
   "metadata": {},
   "source": [
    "### Validate Performance"
   ]
  },
  {
   "cell_type": "code",
   "execution_count": 114,
   "metadata": {},
   "outputs": [
    {
     "name": "stdout",
     "output_type": "stream",
     "text": [
      "model1 = 0.9590551257133484\n",
      "\n",
      "model2 = 0.9905511736869812\n"
     ]
    }
   ],
   "source": [
    "[agent1, agent2] = agents\n",
    "total = 0\n",
    "wrong_count1, wrong_count2 = 0, 0\n",
    "for data, target in test_loader:\n",
    "    total += target.shape[0] \n",
    "    with torch.no_grad():\n",
    "        data = data.reshape(-1, 28*28)\n",
    "        out1 = torch.argmax(agent1.model(data), dim=1)\n",
    "        out2 = torch.argmax(agent2.model(data), dim=1)\n",
    "        wrong_count1 += torch.count_nonzero(out1-target)\n",
    "        wrong_count2 += torch.count_nonzero(out2-target)\n",
    "print(f'model1 = {1 - wrong_count1/total}')\n",
    "print(f'\\nmodel2 = {1 - wrong_count2/total}')"
   ]
  }
 ],
 "metadata": {
  "kernelspec": {
   "display_name": "disop",
   "language": "python",
   "name": "python3"
  },
  "language_info": {
   "codemirror_mode": {
    "name": "ipython",
    "version": 3
   },
   "file_extension": ".py",
   "mimetype": "text/x-python",
   "name": "python",
   "nbconvert_exporter": "python",
   "pygments_lexer": "ipython3",
   "version": "3.10.12"
  }
 },
 "nbformat": 4,
 "nbformat_minor": 2
}
