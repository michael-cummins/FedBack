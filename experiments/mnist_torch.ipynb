{
 "cells": [
  {
   "cell_type": "code",
   "execution_count": 83,
   "metadata": {},
   "outputs": [
    {
     "name": "stdout",
     "output_type": "stream",
     "text": [
      "The autoreload extension is already loaded. To reload it, use:\n",
      "  %reload_ext autoreload\n"
     ]
    }
   ],
   "source": [
    "%load_ext autoreload\n",
    "%autoreload 2\n",
    "\n",
    "import torch\n",
    "import torch.nn as nn\n",
    "from torchvision import datasets, transforms\n",
    "from tqdm import tqdm\n",
    "import matplotlib.pyplot as plt\n",
    "from admm.agents import FedConsensus\n",
    "from admm.servers import EventADMM\n",
    "from admm.models import FCNet\n",
    "from admm.utils import add_params, average_params, sum_params\n",
    "\n",
    "%matplotlib inline"
   ]
  },
  {
   "cell_type": "markdown",
   "metadata": {},
   "source": [
    "### Load MNIST data and create loaders"
   ]
  },
  {
   "cell_type": "code",
   "execution_count": 84,
   "metadata": {},
   "outputs": [],
   "source": [
    "train_ratio = 0.8\n",
    "val_ratio = 0.1\n",
    "test_ratio = 0.1\n",
    "batch_size = 64\n",
    "\n",
    "# Define transformations\n",
    "transform = transforms.Compose([transforms.ToTensor(),\n",
    "                                transforms.Normalize((0.1307,), (0.3081,))])\n",
    "\n",
    "# Load the full MNIST dataset and filter for 1's and 2's\n",
    "dataset = datasets.MNIST(root='./data', train=True, transform=transform, download=False)\n",
    "filtered_dataset = [data for data in dataset if data[1] == 0 or data[1] == 1]\n",
    "\n",
    "# Split into train, val and test\n",
    "dataset_length = len(filtered_dataset)\n",
    "train_length = int(train_ratio * dataset_length)\n",
    "val_length = int(val_ratio * dataset_length)\n",
    "test_length = dataset_length - train_length - val_length\n",
    "train_dataset, val_dataset, test_dataset = torch.utils.data.random_split(\n",
    "    filtered_dataset, \n",
    "    [train_length, val_length, test_length]\n",
    ")\n",
    "\n",
    "digit_1_train_dataset = [data for data in train_dataset if data[1] == 0]\n",
    "digit_2_train_dataset = [data for data in train_dataset if data[1] == 1]\n",
    "digit_1_train_loader = torch.utils.data.DataLoader(digit_1_train_dataset, batch_size=batch_size, shuffle=True)\n",
    "digit_2_train_loader = torch.utils.data.DataLoader(digit_2_train_dataset, batch_size=batch_size, shuffle=True)\n",
    "\n",
    "val_loader = torch.utils.data.DataLoader(val_dataset, batch_size=batch_size, shuffle=True)\n",
    "test_loader = torch.utils.data.DataLoader(test_dataset, batch_size=batch_size, shuffle=True)"
   ]
  },
  {
   "cell_type": "markdown",
   "metadata": {},
   "source": [
    "### Visualise data"
   ]
  },
  {
   "cell_type": "code",
   "execution_count": 85,
   "metadata": {},
   "outputs": [
    {
     "data": {
      "image/png": "[encoded data removed]",
      "text/plain": [
       "<Figure size 640x480 with 2 Axes>"
      ]
     },
     "metadata": {},
     "output_type": "display_data"
    }
   ],
   "source": [
    "for data, target in digit_1_train_loader:\n",
    "    data = data[0,:,:,:]\n",
    "    plt.subplot(1,2,1)\n",
    "    plt.imshow(data.permute(1,2,0))\n",
    "    plt.title(f'Label = {target[0].item()}')\n",
    "    plt.axis('off')\n",
    "    break\n",
    "\n",
    "for data, target in digit_2_train_loader:\n",
    "    shape = data.shape\n",
    "    data = data[0,:,:,:]\n",
    "    plt.subplot(1,2,2)\n",
    "    plt.imshow(data.permute(1,2,0))\n",
    "    plt.title(f'Label = {target[0].item()}, dtype = {target.float().type()}')\n",
    "    plt.axis('off')\n",
    "    break"
   ]
  },
  {
   "cell_type": "markdown",
   "metadata": {},
   "source": [
    "### Define agents and run consensus"
   ]
  },
  {
   "cell_type": "code",
   "execution_count": 104,
   "metadata": {},
   "outputs": [
    {
     "name": "stderr",
     "output_type": "stream",
     "text": [
      "Comm frequency: 0.760, agent 0: 1.00, agent 1: 1.00: 100%|██████████| 25/25 [00:47<00:00,  1.88s/it]\n"
     ]
    }
   ],
   "source": [
    "delta = 0.2\n",
    "rho = 0.01\n",
    "loaders = [digit_1_train_loader, digit_2_train_loader]\n",
    "agents = [\n",
    "    FedConsensus(\n",
    "        N=len(loaders),\n",
    "        delta=delta,\n",
    "        rho=rho,\n",
    "        model=FCNet(in_channels=784, hidden1=200, hidden2=None, out_channels=2),\n",
    "        loss=nn.CrossEntropyLoss(),\n",
    "        train_loader=loader,\n",
    "        classification=True,\n",
    "        epochs=7\n",
    "    ) for loader in loaders\n",
    "]\n",
    "\n",
    "# Broadcast average to all agents and check if equal\n",
    "for agent in agents:\n",
    "    agent.primal_avg = average_params([agent.model.parameters() for agent in agents])\n",
    "for param1, param2 in zip(agents[0].primal_avg, agents[1].primal_avg):\n",
    "    if not torch.equal(param1, param2): print('param not equal')\n",
    "\n",
    "# Run consensus algorithm\n",
    "server = EventADMM(clients=agents, t_max=25)\n",
    "server.spin(loader=val_loader)"
   ]
  },
  {
   "cell_type": "markdown",
   "metadata": {},
   "source": [
    "### Validate Performance"
   ]
  },
  {
   "cell_type": "code",
   "execution_count": 105,
   "metadata": {},
   "outputs": [
    {
     "name": "stdout",
     "output_type": "stream",
     "text": [
      "model1 test = 0.9968429360694554\n",
      "\n",
      "model2 test = 0.9960536700868192\n"
     ]
    }
   ],
   "source": [
    "acc1, acc2 = server.validate(loader=test_loader)\n",
    "print(f'model1 test = {acc1}')\n",
    "print(f'\\nmodel2 test = {acc2}')"
   ]
  }
 ],
 "metadata": {
  "kernelspec": {
   "display_name": "disop",
   "language": "python",
   "name": "python3"
  },
  "language_info": {
   "codemirror_mode": {
    "name": "ipython",
    "version": 3
   },
   "file_extension": ".py",
   "mimetype": "text/x-python",
   "name": "python",
   "nbconvert_exporter": "python",
   "pygments_lexer": "ipython3",
   "version": "3.10.12"
  }
 },
 "nbformat": 4,
 "nbformat_minor": 2
}
