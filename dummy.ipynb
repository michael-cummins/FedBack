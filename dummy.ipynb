{
 "cells": [
  {
   "cell_type": "code",
   "execution_count": 70,
   "metadata": {},
   "outputs": [
    {
     "name": "stdout",
     "output_type": "stream",
     "text": [
      "The autoreload extension is already loaded. To reload it, use:\n",
      "  %reload_ext autoreload\n"
     ]
    }
   ],
   "source": [
    "%load_ext autoreload\n",
    "%autoreload 2\n",
    "\n",
    "import matplotlib.pyplot as plt\n",
    "import numpy as np\n",
    "from agents import GlobalConsensus, EventGlobalConsensus, EventGlobalConsensusTorch\n",
    "from models import NN, Dummy\n",
    "from utils import add_params, scale_params, subtract_params, average_params, sum_params\n",
    "import torch\n",
    "\n",
    "%matplotlib inline"
   ]
  },
  {
   "cell_type": "markdown",
   "metadata": {},
   "source": [
    "### ADMM Global Consensus"
   ]
  },
  {
   "cell_type": "code",
   "execution_count": 71,
   "metadata": {},
   "outputs": [
    {
     "name": "stdout",
     "output_type": "stream",
     "text": [
      "[-0.6650954   0.52366207]\n",
      "[-0.49326449  0.12240181]\n",
      "[1.12682555 0.36038851]\n",
      "[0.43149256 1.36076102]\n",
      "average = [0.09998955 0.59180335]\n"
     ]
    }
   ],
   "source": [
    "rho = 1\n",
    "\n",
    "# Initial lambdas must sum to 0!\n",
    "lam = np.random.randn(2,2)\n",
    "lambdas = np.vstack([lam, -lam])\n",
    "\n",
    "agents = [\n",
    "    GlobalConsensus(\n",
    "        rho=rho, \n",
    "        x_init=np.random.randn(2), \n",
    "        lam_init=lam\n",
    "    ) \n",
    "    for lam in lambdas\n",
    "]\n",
    "\n",
    "# comopute initial average\n",
    "avg = 0\n",
    "for agent in agents:\n",
    "    avg += agent.x/len(agents) \n",
    "\n",
    "# broadcast average to all agents\n",
    "for agent in agents:\n",
    "    agent.primal_average = avg\n",
    "    print(agent.x)\n",
    "print(f'average = {agents[0].primal_average}')"
   ]
  },
  {
   "cell_type": "code",
   "execution_count": 72,
   "metadata": {},
   "outputs": [
    {
     "name": "stdout",
     "output_type": "stream",
     "text": [
      "agent 0: x = [-7.39906180e-11 -1.13503031e-09], lam = [1.47981236e-10 2.27006062e-09]\n",
      "agent 1: x = [6.72227309e-10 1.45999945e-10], lam = [-1.34445462e-09 -2.91999890e-10]\n",
      "agent 2: x = [7.39906180e-11 1.13503031e-09], lam = [-1.47981236e-10 -2.27006062e-09]\n",
      "agent 3: x = [-6.72227309e-10 -1.45999945e-10], lam = [1.34445462e-09 2.91999890e-10]\n"
     ]
    }
   ],
   "source": [
    "for i in range(50):\n",
    "    # compute primal variables\n",
    "    for agent in agents:\n",
    "        agent.primal_update()\n",
    "\n",
    "    # compute new global average\n",
    "    avg = 0\n",
    "    for agent in agents:\n",
    "        avg += agent.x/len(agents) \n",
    "    \n",
    "    # broadcast average to all agents\n",
    "    for agent in agents:\n",
    "        agent.primal_avg = avg\n",
    "\n",
    "    # update dual variables    \n",
    "    for agent in agents:\n",
    "        agent.dual_update()\n",
    "\n",
    "for i, agent in enumerate(agents):\n",
    "    print(f'agent {i}: x = {agent.x}, lam = {agent.lam}')"
   ]
  },
  {
   "cell_type": "markdown",
   "metadata": {},
   "source": [
    "### Event-Based ADMM Global Consensus"
   ]
  },
  {
   "cell_type": "code",
   "execution_count": 73,
   "metadata": {},
   "outputs": [],
   "source": [
    "rho = 1\n",
    "deltas = [1e-3]\n",
    "t_max = 30\n",
    "\n",
    "# Initial lambdas must sum to 0!\n",
    "lam = np.random.randn(2,2)*5\n",
    "lambdas = np.vstack([lam, -lam])\n",
    "x_init = np.random.randn(lambdas.shape[0],2)*5\n",
    "initial_avg = np.mean(x_init, axis=0)\n"
   ]
  },
  {
   "cell_type": "code",
   "execution_count": 75,
   "metadata": {},
   "outputs": [
    {
     "name": "stdout",
     "output_type": "stream",
     "text": [
      "Accuracy = 0.999858, load = 1.0\n"
     ]
    }
   ],
   "source": [
    "for delta in deltas:\n",
    "\n",
    "    # Initialise Agents\n",
    "    agents = [\n",
    "        EventGlobalConsensus(\n",
    "            N=len(lambdas), \n",
    "            rho=rho, \n",
    "            delta=delta,\n",
    "            x_init=x, \n",
    "            lam_init=lam\n",
    "        ) \n",
    "        for lam, x in zip(lambdas, x_init)\n",
    "    ]\n",
    "\n",
    "    # broadcast average to all agents\n",
    "    for agent in agents:\n",
    "        agent.primal_avg = initial_avg\n",
    "\n",
    "    # Run event based ADMM\n",
    "    comm = 0\n",
    "\n",
    "    for t in range(t_max):\n",
    "        \n",
    "        for agent in agents:\n",
    "            agent.primal_update()\n",
    "        \n",
    "        sum_of_res = 0\n",
    "        for agent in agents:\n",
    "            if agent.broadcast: \n",
    "                comm += 1\n",
    "                sum_of_res += agent.residual\n",
    "            \n",
    "        # This is somehow updating all the agents\n",
    "        agent.primal_avg += sum_of_res\n",
    "        \n",
    "        for agent in agents:\n",
    "            agent.dual_update()\n",
    "    \n",
    "    accuracy = np.sum([np.linalg.norm(agent.x - agent.C, ord=1) for agent in agents])\n",
    "    load = comm/(t_max*len(agents))\n",
    "    print(f'Accuracy = {1-accuracy:.6f}, load = {load}')\n",
    "    "
   ]
  }
 ],
 "metadata": {
  "kernelspec": {
   "display_name": "deepc-hunt",
   "language": "python",
   "name": "python3"
  },
  "language_info": {
   "codemirror_mode": {
    "name": "ipython",
    "version": 3
   },
   "file_extension": ".py",
   "mimetype": "text/x-python",
   "name": "python",
   "nbconvert_exporter": "python",
   "pygments_lexer": "ipython3",
   "version": "3.10.12"
  },
  "orig_nbformat": 4
 },
 "nbformat": 4,
 "nbformat_minor": 2
}
